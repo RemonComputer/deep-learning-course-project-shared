{
 "cells": [
  {
   "cell_type": "code",
   "execution_count": 0,
   "metadata": {
    "colab": {},
    "colab_type": "code",
    "id": "ffdC76hpAOzK"
   },
   "outputs": [],
   "source": [
    "using CuArrays\n",
    "cu(rand(2, 2))"
   ]
  }
 ],
 "metadata": {
  "accelerator": "GPU",
  "colab": {
   "name": "Julia-Kernel.ipynb",
   "provenance": [],
   "version": "0.3.2"
  },
  "kernelspec": {
   "display_name": "julia-1.1",
   "name": "julia-1.1"
  }
 },
 "nbformat": 4,
 "nbformat_minor": 1
}
