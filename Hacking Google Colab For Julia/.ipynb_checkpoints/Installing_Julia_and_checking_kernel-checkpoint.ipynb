{
 "cells": [
  {
   "cell_type": "code",
   "execution_count": null,
   "metadata": {
    "colab": {
     "base_uri": "https://localhost:8080/",
     "height": 289
    },
    "colab_type": "code",
    "id": "ak8Beq0S5k3r",
    "outputId": "84ab00eb-f228-4055-ee36-e7552e91f4b4"
   },
   "outputs": [],
   "source": [
    "!wget https://julialang-s3.julialang.org/bin/linux/x64/1.1/julia-1.1.0-linux-x86_64.tar.gz"
   ]
  },
  {
   "cell_type": "code",
   "execution_count": null,
   "metadata": {
    "colab": {},
    "colab_type": "code",
    "id": "AMxUiERX87n_"
   },
   "outputs": [],
   "source": [
    "!tar -xzf julia-1.1.0-linux-x86_64.tar.gz -C /usr --strip-components 1"
   ]
  },
  {
   "cell_type": "code",
   "execution_count": null,
   "metadata": {
    "colab": {
     "base_uri": "https://localhost:8080/",
     "height": 163
    },
    "colab_type": "code",
    "id": "P9m_Ucm69EFQ",
    "outputId": "f57ae133-098f-4b0b-fb56-8459cce29cb8"
   },
   "outputs": [],
   "source": [
    "!julia -e 'using Pkg; pkg\"add IJulia; add CuArrays; add Flux; precompile\"'"
   ]
  },
  {
   "cell_type": "code",
   "execution_count": null,
   "metadata": {
    "colab": {
     "base_uri": "https://localhost:8080/",
     "height": 102
    },
    "colab_type": "code",
    "id": "fcSe3UHH9KR9",
    "outputId": "b198eade-911f-4be4-e880-6dd7fcad6ca3"
   },
   "outputs": [],
   "source": [
    "#Displaying a list of available language kernels, you should find julia-1.1 kernel\n",
    "!jupyter-kernelspec list"
   ]
  }
 ],
 "metadata": {
  "@webio": {
   "lastCommId": "cbef786742ef4f6bbac353df39399680",
   "lastKernelId": "a73414ab-846b-4d97-b315-f093d46ee345"
  },
  "accelerator": "GPU",
  "colab": {
   "name": "Installing Julia.ipynb",
   "provenance": [],
   "version": "0.3.2"
  },
  "kernelspec": {
   "display_name": "Python 3",
   "language": "python",
   "name": "python3"
  },
  "language_info": {
   "codemirror_mode": {
    "name": "ipython",
    "version": 3
   },
   "file_extension": ".py",
   "mimetype": "text/x-python",
   "name": "python",
   "nbconvert_exporter": "python",
   "pygments_lexer": "ipython3",
   "version": "3.6.7"
  }
 },
 "nbformat": 4,
 "nbformat_minor": 1
}
