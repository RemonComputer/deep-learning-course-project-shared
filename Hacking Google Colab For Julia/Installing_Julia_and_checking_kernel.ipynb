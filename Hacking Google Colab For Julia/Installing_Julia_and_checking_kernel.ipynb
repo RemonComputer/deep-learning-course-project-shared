{
  "nbformat": 4,
  "nbformat_minor": 0,
  "metadata": {
    "colab": {
      "name": "Installing_Julia_and_checking_kernel.ipynb",
      "version": "0.3.2",
      "provenance": []
    },
    "kernelspec": {
      "display_name": "Python 3",
      "language": "python",
      "name": "python3"
    },
    "accelerator": "GPU"
  },
  "cells": [
    {
      "metadata": {
        "colab_type": "code",
        "id": "ak8Beq0S5k3r",
        "outputId": "54186e2d-ae17-420d-a0fc-b238130fefd2",
        "colab": {
          "base_uri": "https://localhost:8080/",
          "height": 204
        }
      },
      "cell_type": "code",
      "source": [
        "!wget https://julialang-s3.julialang.org/bin/linux/x64/1.1/julia-1.1.0-linux-x86_64.tar.gz"
      ],
      "execution_count": 0,
      "outputs": [
        {
          "output_type": "stream",
          "text": [
            "--2019-01-26 13:48:24--  https://julialang-s3.julialang.org/bin/linux/x64/1.1/julia-1.1.0-linux-x86_64.tar.gz\n",
            "Resolving julialang-s3.julialang.org (julialang-s3.julialang.org)... 151.101.2.49, 151.101.66.49, 151.101.130.49, ...\n",
            "Connecting to julialang-s3.julialang.org (julialang-s3.julialang.org)|151.101.2.49|:443... connected.\n",
            "HTTP request sent, awaiting response... 200 OK\n",
            "Length: 89632491 (85M) [application/octet-stream]\n",
            "Saving to: ‘julia-1.1.0-linux-x86_64.tar.gz’\n",
            "\n",
            "\r          julia-1.1   0%[                    ]       0  --.-KB/s               \r         julia-1.1.  50%[=========>          ]  43.51M   218MB/s               \rjulia-1.1.0-linux-x 100%[===================>]  85.48M   257MB/s    in 0.3s    \n",
            "\n",
            "2019-01-26 13:48:25 (257 MB/s) - ‘julia-1.1.0-linux-x86_64.tar.gz’ saved [89632491/89632491]\n",
            "\n"
          ],
          "name": "stdout"
        }
      ]
    },
    {
      "metadata": {
        "colab_type": "code",
        "id": "AMxUiERX87n_",
        "colab": {}
      },
      "cell_type": "code",
      "source": [
        "!tar -xzf julia-1.1.0-linux-x86_64.tar.gz -C /usr --strip-components 1"
      ],
      "execution_count": 0,
      "outputs": []
    },
    {
      "metadata": {
        "colab_type": "code",
        "id": "P9m_Ucm69EFQ",
        "outputId": "230fef84-a5f3-482f-93a7-339f5616b4f7",
        "colab": {
          "base_uri": "https://localhost:8080/",
          "height": 2584
        }
      },
      "cell_type": "code",
      "source": [
        "!julia -e 'using Pkg; pkg\"add IJulia; add CuArrays; add Flux; precompile\"'"
      ],
      "execution_count": 0,
      "outputs": [
        {
          "output_type": "stream",
          "text": [
            "   Cloning default registries into `~/.julia`\n",
            "   Cloning registry from \"https://github.com/JuliaRegistries/General.git\"\n",
            "\u001b[2K\u001b[?25h     Added registry `General` to `~/.julia/registries/General`\n",
            " Resolving package versions...\n",
            " Installed Compat ────────── v1.4.0\n",
            " Installed SoftGlobalScope ─ v1.0.9\n",
            " Installed Conda ─────────── v1.1.1\n",
            " Installed IJulia ────────── v1.15.2\n",
            " Installed ZMQ ───────────── v1.0.0\n",
            " Installed MbedTLS ───────── v0.6.6\n",
            " Installed JSON ──────────── v0.20.0\n",
            " Installed BinaryProvider ── v0.5.3\n",
            " Installed VersionParsing ── v1.1.3\n",
            "  Updating `~/.julia/environments/v1.1/Project.toml`\n",
            "  [7073ff75] + IJulia v1.15.2\n",
            "  Updating `~/.julia/environments/v1.1/Manifest.toml`\n",
            "  [b99e7846] + BinaryProvider v0.5.3\n",
            "  [34da2185] + Compat v1.4.0\n",
            "  [8f4d0f93] + Conda v1.1.1\n",
            "  [7073ff75] + IJulia v1.15.2\n",
            "  [682c06a0] + JSON v0.20.0\n",
            "  [739be429] + MbedTLS v0.6.6\n",
            "  [b85f4697] + SoftGlobalScope v1.0.9\n",
            "  [81def892] + VersionParsing v1.1.3\n",
            "  [c2297ded] + ZMQ v1.0.0\n",
            "  [2a0f44e3] + Base64 \n",
            "  [ade2ca70] + Dates \n",
            "  [8bb1440f] + DelimitedFiles \n",
            "  [8ba89e20] + Distributed \n",
            "  [7b1f6079] + FileWatching \n",
            "  [b77e0a4c] + InteractiveUtils \n",
            "  [76f85450] + LibGit2 \n",
            "  [8f399da3] + Libdl \n",
            "  [37e2e46d] + LinearAlgebra \n",
            "  [56ddb016] + Logging \n",
            "  [d6f4376e] + Markdown \n",
            "  [a63ad114] + Mmap \n",
            "  [44cfe95a] + Pkg \n",
            "  [de0858da] + Printf \n",
            "  [3fa0cd96] + REPL \n",
            "  [9a3f8284] + Random \n",
            "  [ea8e919c] + SHA \n",
            "  [9e88b42a] + Serialization \n",
            "  [1a1011a3] + SharedArrays \n",
            "  [6462fe0b] + Sockets \n",
            "  [2f01184e] + SparseArrays \n",
            "  [10745b16] + Statistics \n",
            "  [8dfed614] + Test \n",
            "  [cf7118a7] + UUIDs \n",
            "  [4ec0a83e] + Unicode \n",
            "  Building Conda ──→ `~/.julia/packages/Conda/uQitS/deps/build.log`\n",
            "  Building ZMQ ────→ `~/.julia/packages/ZMQ/ABGOx/deps/build.log`\n",
            "  Building MbedTLS → `~/.julia/packages/MbedTLS/r1Ufc/deps/build.log`\n",
            "  Building IJulia ─→ `~/.julia/packages/IJulia/GIANC/deps/build.log`\n",
            " Resolving package versions...\n",
            " Installed NaNMath ────────────── v0.3.2\n",
            " Installed DiffRules ──────────── v0.0.7\n",
            " Installed Adapt ──────────────── v0.4.2\n",
            " Installed ForwardDiff ────────── v0.10.2\n",
            " Installed SpecialFunctions ───── v0.7.2\n",
            " Installed FillArrays ─────────── v0.4.0\n",
            " Installed CommonSubexpressions ─ v0.2.0\n",
            " Installed CuArrays ───────────── v0.9.0\n",
            " Installed Reexport ───────────── v0.2.0\n",
            " Installed GPUArrays ──────────── v0.6.1\n",
            " Installed BinDeps ────────────── v0.8.10\n",
            " Installed DiffResults ────────── v0.0.3\n",
            " Installed MacroTools ─────────── v0.4.4\n",
            " Installed CUDAapi ────────────── v0.5.4\n",
            " Installed URIParser ──────────── v0.4.0\n",
            " Installed StaticArrays ───────── v0.10.2\n",
            " Installed Requires ───────────── v0.5.2\n",
            " Installed AbstractFFTs ───────── v0.3.2\n",
            " Installed FFTW ───────────────── v0.2.4\n",
            " Installed NNlib ──────────────── v0.4.3\n",
            " Installed CUDAnative ─────────── v1.0.0\n",
            " Installed CUDAdrv ────────────── v1.0.1\n",
            " Installed LLVM ───────────────── v1.0.0\n",
            "  Updating `~/.julia/environments/v1.1/Project.toml`\n",
            "  [3a865a2d] + CuArrays v0.9.0\n",
            "  Updating `~/.julia/environments/v1.1/Manifest.toml`\n",
            "  [621f4979] + AbstractFFTs v0.3.2\n",
            "  [79e6a3ab] + Adapt v0.4.2\n",
            "  [9e28174c] + BinDeps v0.8.10\n",
            "  [3895d2a7] + CUDAapi v0.5.4\n",
            "  [c5f51814] + CUDAdrv v1.0.1\n",
            "  [be33ccc6] + CUDAnative v1.0.0\n",
            "  [bbf7d656] + CommonSubexpressions v0.2.0\n",
            "  [3a865a2d] + CuArrays v0.9.0\n",
            "  [163ba53b] + DiffResults v0.0.3\n",
            "  [b552c78f] + DiffRules v0.0.7\n",
            "  [7a1cc6ca] + FFTW v0.2.4\n",
            "  [1a297f60] + FillArrays v0.4.0\n",
            "  [f6369f11] + ForwardDiff v0.10.2\n",
            "  [0c68f7d7] + GPUArrays v0.6.1\n",
            "  [929cbde3] + LLVM v1.0.0\n",
            "  [1914dd2f] + MacroTools v0.4.4\n",
            "  [872c559c] + NNlib v0.4.3\n",
            "  [77ba4419] + NaNMath v0.3.2\n",
            "  [189a3867] + Reexport v0.2.0\n",
            "  [ae029012] + Requires v0.5.2\n",
            "  [276daf66] + SpecialFunctions v0.7.2\n",
            "  [90137ffa] + StaticArrays v0.10.2\n",
            "  [30578b45] + URIParser v0.4.0\n",
            "  Building SpecialFunctions → `~/.julia/packages/SpecialFunctions/fvheQ/deps/build.log`\n",
            "  Building CUDAdrv ─────────→ `~/.julia/packages/CUDAdrv/JWljj/deps/build.log`\n",
            "  Building LLVM ────────────→ `~/.julia/packages/LLVM/tPWXv/deps/build.log`\n",
            "  Building CUDAnative ──────→ `~/.julia/packages/CUDAnative/l7sDn/deps/build.log`\n",
            "  Building FFTW ────────────→ `~/.julia/packages/FFTW/p7sLQ/deps/build.log`\n",
            "  Building CuArrays ────────→ `~/.julia/packages/CuArrays/2Egzp/deps/build.log`\n",
            " Resolving package versions...\n",
            " Installed Juno ─────────────── v0.5.4\n",
            " Installed SortingAlgorithms ── v0.3.1\n",
            " Installed AbstractTrees ────── v0.2.1\n",
            " Installed ZipFile ──────────── v0.8.0\n",
            " Installed Flux ─────────────── v0.7.1\n",
            " Installed DataStructures ───── v0.15.0\n",
            " Installed TranscodingStreams ─ v0.8.1\n",
            " Installed Colors ───────────── v0.9.5\n",
            " Installed OrderedCollections ─ v1.0.2\n",
            " Installed Media ────────────── v0.5.0\n",
            " Installed CodecZlib ────────── v0.5.1\n",
            " Installed Missings ─────────── v0.4.0\n",
            " Installed ColorTypes ───────── v0.7.5\n",
            " Installed StatsBase ────────── v0.27.0\n",
            " Installed FixedPointNumbers ── v0.5.3\n",
            "  Updating `~/.julia/environments/v1.1/Project.toml`\n",
            "  [587475ba] + Flux v0.7.1\n",
            "  Updating `~/.julia/environments/v1.1/Manifest.toml`\n",
            "  [1520ce14] + AbstractTrees v0.2.1\n",
            "  [944b1d66] + CodecZlib v0.5.1\n",
            "  [3da002f7] + ColorTypes v0.7.5\n",
            "  [5ae59095] + Colors v0.9.5\n",
            "  [864edb3b] + DataStructures v0.15.0\n",
            "  [53c48c17] + FixedPointNumbers v0.5.3\n",
            "  [587475ba] + Flux v0.7.1\n",
            "  [e5e0dc1b] + Juno v0.5.4\n",
            "  [e89f7d12] + Media v0.5.0\n",
            "  [e1d29d7a] + Missings v0.4.0\n",
            "  [bac558e1] + OrderedCollections v1.0.2\n",
            "  [a2af1166] + SortingAlgorithms v0.3.1\n",
            "  [2913bbd2] + StatsBase v0.27.0\n",
            "  [3bb67fe8] + TranscodingStreams v0.8.1\n",
            "  [a5390f91] + ZipFile v0.8.0\n",
            "  [9abbd945] + Profile \n",
            "  Building ZipFile ──→ `~/.julia/packages/ZipFile/p60bh/deps/build.log`\n",
            "  Building CodecZlib → `~/.julia/packages/CodecZlib/DAjXH/deps/build.log`\n",
            "Precompiling project...\n",
            "Precompiling CuArrays\n",
            "Precompiling IJulia\n",
            "Precompiling Flux\n"
          ],
          "name": "stdout"
        }
      ]
    },
    {
      "metadata": {
        "colab_type": "code",
        "id": "fcSe3UHH9KR9",
        "outputId": "64431833-5ced-4064-dafa-83c04305c01a",
        "colab": {
          "base_uri": "https://localhost:8080/",
          "height": 102
        }
      },
      "cell_type": "code",
      "source": [
        "#Displaying a list of available language kernels, you should find julia-1.1 kernel\n",
        "!jupyter-kernelspec list"
      ],
      "execution_count": 0,
      "outputs": [
        {
          "output_type": "stream",
          "text": [
            "Available kernels:\n",
            "  julia-1.1    /root/.local/share/jupyter/kernels/julia-1.1\n",
            "  python2      /usr/local/share/jupyter/kernels/python2\n",
            "  python3      /usr/local/share/jupyter/kernels/python3\n",
            "  swift        /usr/local/share/jupyter/kernels/swift\n"
          ],
          "name": "stdout"
        }
      ]
    },
    {
      "metadata": {
        "id": "37CQCb_mawOH",
        "colab_type": "code",
        "colab": {}
      },
      "cell_type": "code",
      "source": [
        ""
      ],
      "execution_count": 0,
      "outputs": []
    }
  ]
}