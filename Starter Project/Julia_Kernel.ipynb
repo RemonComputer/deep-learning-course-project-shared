{
  "nbformat": 4,
  "nbformat_minor": 0,
  "metadata": {
    "colab": {
      "name": "Julia_Kernel.ipynb",
      "version": "0.3.2",
      "provenance": [],
      "collapsed_sections": []
    },
    "kernelspec": {
      "display_name": "julia-1.1",
      "name": "julia-1.1"
    },
    "accelerator": "GPU"
  },
  "cells": [
    {
      "metadata": {
        "colab_type": "code",
        "id": "ffdC76hpAOzK",
        "colab": {
          "base_uri": "https://localhost:8080/",
          "height": 68
        },
        "outputId": "90201d9d-d060-494d-971d-e39ed4654f3e"
      },
      "cell_type": "code",
      "source": [
        "using CuArrays, Flux\n",
        "g = rand(2, 2) |> gpu "
      ],
      "execution_count": 3,
      "outputs": [
        {
          "output_type": "execute_result",
          "data": {
            "text/plain": [
              "2×2 CuArray{Float32,2}:\n",
              " 0.855527  0.266945\n",
              " 0.47183   0.581801"
            ]
          },
          "metadata": {
            "tags": []
          },
          "execution_count": 3
        }
      ]
    },
    {
      "metadata": {
        "id": "YhQc1mdNbnxO",
        "colab_type": "code",
        "colab": {}
      },
      "cell_type": "code",
      "source": [
        ""
      ],
      "execution_count": 0,
      "outputs": []
    }
  ]
}